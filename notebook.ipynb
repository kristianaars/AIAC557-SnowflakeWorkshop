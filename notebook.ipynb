{
 "cells": [
  {
   "cell_type": "markdown",
   "source": [
    "# About\n",
    "This notebook looks at the correlation between number of rides and the temperature of a given day."
   ],
   "metadata": {
    "collapsed": false
   }
  },
  {
   "cell_type": "markdown",
   "source": [
    "# 0. Prerequisits"
   ],
   "metadata": {
    "collapsed": false
   }
  },
  {
   "cell_type": "code",
   "execution_count": null,
   "outputs": [],
   "source": [
    "# Only applicable for Linux distros\n",
    "!sudo apt install libm-devel, openssl-devel"
   ],
   "metadata": {
    "collapsed": false
   }
  },
  {
   "cell_type": "code",
   "execution_count": null,
   "outputs": [],
   "source": [
    "!pip install snowflake-connector-python\n",
    "!pip install \"snowflake-connector-python[pandas]\""
   ],
   "metadata": {
    "collapsed": false
   }
  },
  {
   "cell_type": "markdown",
   "source": [
    "# 1. Connect to Snowflake"
   ],
   "metadata": {
    "collapsed": false
   }
  },
  {
   "cell_type": "code",
   "execution_count": null,
   "outputs": [],
   "source": [
    "import decimal\n",
    "\n",
    "import snowflake.connector\n",
    "import matplotlib.pyplot as plt\n",
    "import numpy as np"
   ],
   "metadata": {
    "collapsed": false
   }
  },
  {
   "cell_type": "code",
   "execution_count": null,
   "metadata": {
    "collapsed": true
   },
   "outputs": [],
   "source": [
    "ctx = snowflake.connector.connect(\n",
    "    user='kristianaars',\n",
    "    account='avsdods-gh85649',\n",
    "    password=input('Please enter password:')\n",
    ")"
   ]
  },
  {
   "cell_type": "markdown",
   "source": [
    "## 1.1 Check version"
   ],
   "metadata": {
    "collapsed": false
   }
  },
  {
   "cell_type": "code",
   "execution_count": null,
   "outputs": [],
   "source": [
    "with ctx.cursor() as cs:\n",
    "    cs.execute('SELECT current_version()')\n",
    "    print(cs.fetchone()[0])"
   ],
   "metadata": {
    "collapsed": false
   }
  },
  {
   "cell_type": "markdown",
   "source": [
    "# 2 Pulling data"
   ],
   "metadata": {
    "collapsed": false
   }
  },
  {
   "cell_type": "markdown",
   "source": [
    "## 2.1 Selecting Database"
   ],
   "metadata": {
    "collapsed": false
   }
  },
  {
   "cell_type": "code",
   "execution_count": null,
   "outputs": [],
   "source": [
    "with ctx.cursor() as cs:\n",
    "    cs.execute('USE DATABASE my_sf_db')\n",
    "    print(cs.fetchone()[0])"
   ],
   "metadata": {
    "collapsed": false
   }
  },
  {
   "cell_type": "markdown",
   "source": [
    "## 2.2 Fetch Data\n",
    "Notice that we are collecting the data as a Pandas Dataframe by using `cs.fetch_pandas_all()`"
   ],
   "metadata": {
    "collapsed": false
   }
  },
  {
   "cell_type": "code",
   "execution_count": null,
   "outputs": [],
   "source": [
    "with ctx.cursor() as cs:\n",
    "    cs.execute('SELECT * FROM users')\n",
    "    data = cs.fetch_pandas_all()"
   ],
   "metadata": {
    "collapsed": false
   }
  },
  {
   "cell_type": "code",
   "execution_count": null,
   "outputs": [],
   "source": [
    "data"
   ],
   "metadata": {
    "collapsed": false
   }
  },
  {
   "cell_type": "markdown",
   "source": [
    "# 3 Processing Data\n",
    "Lets look at how the temperature correlates with the number of bike rides. First we must collect the data"
   ],
   "metadata": {
    "collapsed": false
   }
  },
  {
   "cell_type": "code",
   "execution_count": null,
   "outputs": [],
   "source": [
    "sql = \"\"\"\n",
    "SELECT\n",
    "    TO_DATE(citibike_data.started_at) as ride_date,\n",
    "    COUNT(ride_date) as n_trips,\n",
    "    AVG(weather_data.avg_temperature_feelslike_2m_f) as temperature\n",
    "FROM CITIBIKE.PUBLIC.RIDES citibike_data\n",
    "INNER JOIN WEATHER_DATA.STANDARD_TILE.HISTORY_DAY weather_data\n",
    "ON weather_data.date_valid_std = ride_date\n",
    "WHERE weather_data.postal_code LIKE '10257'\n",
    "GROUP BY ride_date\n",
    "\"\"\"\n",
    "\n",
    "with ctx.cursor() as cs:\n",
    "    cs.execute(sql)\n",
    "    data = cs.fetch_pandas_all()"
   ],
   "metadata": {
    "collapsed": false
   }
  },
  {
   "cell_type": "code",
   "execution_count": null,
   "outputs": [],
   "source": [
    "# We do not need the date for calculating correlation, so this is removed\n",
    "data = data.drop(['RIDE_DATE'], axis=1)\n",
    "data = data.astype(float)\n",
    "data"
   ],
   "metadata": {
    "collapsed": false
   }
  },
  {
   "cell_type": "markdown",
   "source": [
    "Lets see what the data correlation between number of rides and the temperature is"
   ],
   "metadata": {
    "collapsed": false
   }
  },
  {
   "cell_type": "code",
   "execution_count": null,
   "outputs": [],
   "source": [
    "data.corr()"
   ],
   "metadata": {
    "collapsed": false
   }
  },
  {
   "cell_type": "markdown",
   "source": [
    "## 4 Plot the data in correlation graph"
   ],
   "metadata": {
    "collapsed": false
   }
  },
  {
   "cell_type": "code",
   "execution_count": null,
   "outputs": [],
   "source": [
    "x = data['TEMPERATURE']\n",
    "y = (data['N_TRIPS'])\n",
    "\n",
    "plt.scatter(x=data['TEMPERATURE'], y=data['N_TRIPS'])\n",
    "\n",
    "plt.plot(np.unique(x),\n",
    "         np.poly1d(np.polyfit(x, y, 1))\n",
    "         (np.unique(x)), color='red')\n",
    "\n",
    "plt.show()"
   ],
   "metadata": {
    "collapsed": false
   }
  }
 ],
 "metadata": {
  "kernelspec": {
   "display_name": "Python 3",
   "language": "python",
   "name": "python3"
  },
  "language_info": {
   "codemirror_mode": {
    "name": "ipython",
    "version": 2
   },
   "file_extension": ".py",
   "mimetype": "text/x-python",
   "name": "python",
   "nbconvert_exporter": "python",
   "pygments_lexer": "ipython2",
   "version": "2.7.6"
  }
 },
 "nbformat": 4,
 "nbformat_minor": 0
}
