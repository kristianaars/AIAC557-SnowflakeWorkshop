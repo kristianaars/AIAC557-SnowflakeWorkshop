{
 "cells": [
  {
   "cell_type": "markdown",
   "source": [
    "# 1. Connect to Snowflake"
   ],
   "metadata": {
    "collapsed": false
   }
  },
  {
   "cell_type": "code",
   "execution_count": 54,
   "outputs": [],
   "source": [
    "import decimal\n",
    "\n",
    "import snowflake.connector\n",
    "import matplotlib.pyplot as plt\n",
    "import numpy as np"
   ],
   "metadata": {
    "collapsed": false
   }
  },
  {
   "cell_type": "code",
   "execution_count": 2,
   "metadata": {
    "collapsed": true
   },
   "outputs": [],
   "source": [
    "ctx = snowflake.connector.connect(\n",
    "    user='kristianaars',\n",
    "    account='avsdods-gh85649',\n",
    "    password=input('Please enter password:')\n",
    ")"
   ]
  },
  {
   "cell_type": "markdown",
   "source": [
    "## 1.1 Check version"
   ],
   "metadata": {
    "collapsed": false
   }
  },
  {
   "cell_type": "code",
   "execution_count": 3,
   "outputs": [
    {
     "name": "stdout",
     "output_type": "stream",
     "text": [
      "7.30.0\n"
     ]
    }
   ],
   "source": [
    "with ctx.cursor() as cs:\n",
    "    cs.execute('SELECT current_version()')\n",
    "    print(cs.fetchone()[0])"
   ],
   "metadata": {
    "collapsed": false
   }
  },
  {
   "cell_type": "markdown",
   "source": [
    "# 2 Pulling data"
   ],
   "metadata": {
    "collapsed": false
   }
  },
  {
   "cell_type": "markdown",
   "source": [
    "## 2.1 Selecting Database"
   ],
   "metadata": {
    "collapsed": false
   }
  },
  {
   "cell_type": "code",
   "execution_count": 4,
   "outputs": [
    {
     "name": "stdout",
     "output_type": "stream",
     "text": [
      "Statement executed successfully.\n"
     ]
    }
   ],
   "source": [
    "with ctx.cursor() as cs:\n",
    "    cs.execute('USE DATABASE my_sf_db')\n",
    "    print(cs.fetchone()[0])"
   ],
   "metadata": {
    "collapsed": false
   }
  },
  {
   "cell_type": "markdown",
   "source": [
    "## 2.2 Fetch Data\n",
    "Notice that we are collecting the data as a Pandas Dataframe by using `cs.fetch_pandas_all()`"
   ],
   "metadata": {
    "collapsed": false
   }
  },
  {
   "cell_type": "code",
   "execution_count": 5,
   "outputs": [],
   "source": [
    "with ctx.cursor() as cs:\n",
    "    cs.execute('SELECT * FROM users')\n",
    "    data = cs.fetch_pandas_all()"
   ],
   "metadata": {
    "collapsed": false
   }
  },
  {
   "cell_type": "code",
   "execution_count": 7,
   "outputs": [
    {
     "data": {
      "text/plain": "   ID        FIRST_NAME         SURNAME                   EMAIL  BORN_YEAR\n0   1          Kristian            Aars    kristian.aars@me.com       1998\n1   2          Kristian            Aars    kristian.aars@me.com       1998\n2   3            Barack           Obama  barack.obama@yahoo.com       1961\n3   4  <YOUR_FIRSTNAME>  <YOUR_SURNAME>            <YOUR_EMAIL>       1998\n4   5            Barack           Obama  barack.obama@yahoo.com       1961\n5   6             Milan           Newar   milan.newar@gmail.com       1968",
      "text/html": "<div>\n<style scoped>\n    .dataframe tbody tr th:only-of-type {\n        vertical-align: middle;\n    }\n\n    .dataframe tbody tr th {\n        vertical-align: top;\n    }\n\n    .dataframe thead th {\n        text-align: right;\n    }\n</style>\n<table border=\"1\" class=\"dataframe\">\n  <thead>\n    <tr style=\"text-align: right;\">\n      <th></th>\n      <th>ID</th>\n      <th>FIRST_NAME</th>\n      <th>SURNAME</th>\n      <th>EMAIL</th>\n      <th>BORN_YEAR</th>\n    </tr>\n  </thead>\n  <tbody>\n    <tr>\n      <th>0</th>\n      <td>1</td>\n      <td>Kristian</td>\n      <td>Aars</td>\n      <td>kristian.aars@me.com</td>\n      <td>1998</td>\n    </tr>\n    <tr>\n      <th>1</th>\n      <td>2</td>\n      <td>Kristian</td>\n      <td>Aars</td>\n      <td>kristian.aars@me.com</td>\n      <td>1998</td>\n    </tr>\n    <tr>\n      <th>2</th>\n      <td>3</td>\n      <td>Barack</td>\n      <td>Obama</td>\n      <td>barack.obama@yahoo.com</td>\n      <td>1961</td>\n    </tr>\n    <tr>\n      <th>3</th>\n      <td>4</td>\n      <td>&lt;YOUR_FIRSTNAME&gt;</td>\n      <td>&lt;YOUR_SURNAME&gt;</td>\n      <td>&lt;YOUR_EMAIL&gt;</td>\n      <td>1998</td>\n    </tr>\n    <tr>\n      <th>4</th>\n      <td>5</td>\n      <td>Barack</td>\n      <td>Obama</td>\n      <td>barack.obama@yahoo.com</td>\n      <td>1961</td>\n    </tr>\n    <tr>\n      <th>5</th>\n      <td>6</td>\n      <td>Milan</td>\n      <td>Newar</td>\n      <td>milan.newar@gmail.com</td>\n      <td>1968</td>\n    </tr>\n  </tbody>\n</table>\n</div>"
     },
     "execution_count": 7,
     "metadata": {},
     "output_type": "execute_result"
    }
   ],
   "source": [
    "data"
   ],
   "metadata": {
    "collapsed": false
   }
  },
  {
   "cell_type": "markdown",
   "source": [
    "# 3 Processing Data\n",
    "Lets look at how the temperature correlates with the number of bike rides. First we must collect the data"
   ],
   "metadata": {
    "collapsed": false
   }
  },
  {
   "cell_type": "code",
   "execution_count": 48,
   "outputs": [],
   "source": [
    "sql = \"\"\"\n",
    "SELECT\n",
    "    TO_DATE(citibike_data.started_at) as ride_date,\n",
    "    COUNT(ride_date) as n_trips,\n",
    "    AVG(weather_data.avg_temperature_feelslike_2m_f) as temperature\n",
    "FROM CITIBIKE.PUBLIC.RIDES citibike_data\n",
    "INNER JOIN WEATHER_DATA.STANDARD_TILE.HISTORY_DAY weather_data\n",
    "ON weather_data.date_valid_std = ride_date\n",
    "WHERE weather_data.postal_code LIKE '10257'\n",
    "GROUP BY ride_date\n",
    "\"\"\"\n",
    "\n",
    "with ctx.cursor() as cs:\n",
    "    cs.execute(sql)\n",
    "    data = cs.fetch_pandas_all()"
   ],
   "metadata": {
    "collapsed": false
   }
  },
  {
   "cell_type": "code",
   "execution_count": 62,
   "outputs": [
    {
     "data": {
      "text/plain": "     N_TRIPS  TEMPERATURE\n0    91182.0         81.5\n1   126713.0         81.5\n2   100583.0         84.2\n3   128947.0         85.0\n4   120041.0         84.3\n..       ...          ...\n87  120422.0         76.8\n88  111806.0         72.2\n89  106569.0         59.4\n90  114492.0         73.1\n91  111057.0         67.3\n\n[92 rows x 2 columns]",
      "text/html": "<div>\n<style scoped>\n    .dataframe tbody tr th:only-of-type {\n        vertical-align: middle;\n    }\n\n    .dataframe tbody tr th {\n        vertical-align: top;\n    }\n\n    .dataframe thead th {\n        text-align: right;\n    }\n</style>\n<table border=\"1\" class=\"dataframe\">\n  <thead>\n    <tr style=\"text-align: right;\">\n      <th></th>\n      <th>N_TRIPS</th>\n      <th>TEMPERATURE</th>\n    </tr>\n  </thead>\n  <tbody>\n    <tr>\n      <th>0</th>\n      <td>91182.0</td>\n      <td>81.5</td>\n    </tr>\n    <tr>\n      <th>1</th>\n      <td>126713.0</td>\n      <td>81.5</td>\n    </tr>\n    <tr>\n      <th>2</th>\n      <td>100583.0</td>\n      <td>84.2</td>\n    </tr>\n    <tr>\n      <th>3</th>\n      <td>128947.0</td>\n      <td>85.0</td>\n    </tr>\n    <tr>\n      <th>4</th>\n      <td>120041.0</td>\n      <td>84.3</td>\n    </tr>\n    <tr>\n      <th>...</th>\n      <td>...</td>\n      <td>...</td>\n    </tr>\n    <tr>\n      <th>87</th>\n      <td>120422.0</td>\n      <td>76.8</td>\n    </tr>\n    <tr>\n      <th>88</th>\n      <td>111806.0</td>\n      <td>72.2</td>\n    </tr>\n    <tr>\n      <th>89</th>\n      <td>106569.0</td>\n      <td>59.4</td>\n    </tr>\n    <tr>\n      <th>90</th>\n      <td>114492.0</td>\n      <td>73.1</td>\n    </tr>\n    <tr>\n      <th>91</th>\n      <td>111057.0</td>\n      <td>67.3</td>\n    </tr>\n  </tbody>\n</table>\n<p>92 rows × 2 columns</p>\n</div>"
     },
     "execution_count": 62,
     "metadata": {},
     "output_type": "execute_result"
    }
   ],
   "source": [
    "data = data.drop(['RIDE_DATE'], axis=1)\n",
    "data = data.astype(float)\n",
    "data"
   ],
   "metadata": {
    "collapsed": false
   }
  },
  {
   "cell_type": "code",
   "execution_count": 50,
   "outputs": [
    {
     "data": {
      "text/plain": "              N_TRIPS  TEMPERATURE\nN_TRIPS      1.000000     0.532893\nTEMPERATURE  0.532893     1.000000",
      "text/html": "<div>\n<style scoped>\n    .dataframe tbody tr th:only-of-type {\n        vertical-align: middle;\n    }\n\n    .dataframe tbody tr th {\n        vertical-align: top;\n    }\n\n    .dataframe thead th {\n        text-align: right;\n    }\n</style>\n<table border=\"1\" class=\"dataframe\">\n  <thead>\n    <tr style=\"text-align: right;\">\n      <th></th>\n      <th>N_TRIPS</th>\n      <th>TEMPERATURE</th>\n    </tr>\n  </thead>\n  <tbody>\n    <tr>\n      <th>N_TRIPS</th>\n      <td>1.000000</td>\n      <td>0.532893</td>\n    </tr>\n    <tr>\n      <th>TEMPERATURE</th>\n      <td>0.532893</td>\n      <td>1.000000</td>\n    </tr>\n  </tbody>\n</table>\n</div>"
     },
     "execution_count": 50,
     "metadata": {},
     "output_type": "execute_result"
    }
   ],
   "source": [
    "data.corr()"
   ],
   "metadata": {
    "collapsed": false
   }
  },
  {
   "cell_type": "code",
   "execution_count": 65,
   "outputs": [
    {
     "data": {
      "text/plain": "<Figure size 640x480 with 1 Axes>",
      "image/png": "[encoded data removed]"
     },
     "metadata": {},
     "output_type": "display_data"
    }
   ],
   "source": [
    "x = data['TEMPERATURE']\n",
    "y = (data['N_TRIPS'])\n",
    "\n",
    "plt.scatter(x=data['TEMPERATURE'], y=data['N_TRIPS'])\n",
    "\n",
    "plt.plot(np.unique(x),\n",
    "         np.poly1d(np.polyfit(x, y, 1))\n",
    "         (np.unique(x)), color='red')\n",
    "\n",
    "plt.show()"
   ],
   "metadata": {
    "collapsed": false
   }
  },
  {
   "cell_type": "code",
   "execution_count": null,
   "outputs": [],
   "source": [],
   "metadata": {
    "collapsed": false
   }
  }
 ],
 "metadata": {
  "kernelspec": {
   "display_name": "Python 3",
   "language": "python",
   "name": "python3"
  },
  "language_info": {
   "codemirror_mode": {
    "name": "ipython",
    "version": 2
   },
   "file_extension": ".py",
   "mimetype": "text/x-python",
   "name": "python",
   "nbconvert_exporter": "python",
   "pygments_lexer": "ipython2",
   "version": "2.7.6"
  }
 },
 "nbformat": 4,
 "nbformat_minor": 0
}
